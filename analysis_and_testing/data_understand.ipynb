{
 "cells": [
  {
   "cell_type": "code",
   "execution_count": 42,
   "metadata": {
    "metadata": {}
   },
   "outputs": [],
   "source": [
    "import pandas as pd\n",
    "import matplotlib.pyplot\n",
    "\n",
    "payment_df = pd.read_csv('./data/payment.csv')\n",
    "loan_df = pd.read_csv('./data/loan.csv')"
   ]
  },
  {
   "cell_type": "markdown",
   "metadata": {},
   "source": [
    "# Loan Dataset"
   ]
  },
  {
   "cell_type": "code",
   "execution_count": 43,
   "metadata": {
    "metadata": {}
   },
   "outputs": [
    {
     "data": {
      "text/html": [
       "<div>\n",
       "<style scoped>\n",
       "    .dataframe tbody tr th:only-of-type {\n",
       "        vertical-align: middle;\n",
       "    }\n",
       "\n",
       "    .dataframe tbody tr th {\n",
       "        vertical-align: top;\n",
       "    }\n",
       "\n",
       "    .dataframe thead th {\n",
       "        text-align: right;\n",
       "    }\n",
       "</style>\n",
       "<table border=\"1\" class=\"dataframe\">\n",
       "  <thead>\n",
       "    <tr style=\"text-align: right;\">\n",
       "      <th></th>\n",
       "      <th>loanId</th>\n",
       "      <th>anon_ssn</th>\n",
       "      <th>payFrequency</th>\n",
       "      <th>apr</th>\n",
       "      <th>applicationDate</th>\n",
       "      <th>originated</th>\n",
       "      <th>originatedDate</th>\n",
       "      <th>nPaidOff</th>\n",
       "      <th>approved</th>\n",
       "      <th>isFunded</th>\n",
       "      <th>loanStatus</th>\n",
       "      <th>loanAmount</th>\n",
       "      <th>originallyScheduledPaymentAmount</th>\n",
       "      <th>state</th>\n",
       "      <th>leadType</th>\n",
       "      <th>leadCost</th>\n",
       "      <th>fpStatus</th>\n",
       "      <th>clarityFraudId</th>\n",
       "      <th>hasCF</th>\n",
       "    </tr>\n",
       "  </thead>\n",
       "  <tbody>\n",
       "    <tr>\n",
       "      <th>0</th>\n",
       "      <td>LL-I-07399092</td>\n",
       "      <td>beff4989be82aab4a5b47679216942fd</td>\n",
       "      <td>B</td>\n",
       "      <td>360.0</td>\n",
       "      <td>2016-02-23T17:29:01.940000</td>\n",
       "      <td>False</td>\n",
       "      <td>NaN</td>\n",
       "      <td>0.0</td>\n",
       "      <td>False</td>\n",
       "      <td>0</td>\n",
       "      <td>Withdrawn Application</td>\n",
       "      <td>500.0</td>\n",
       "      <td>978.27</td>\n",
       "      <td>IL</td>\n",
       "      <td>bvMandatory</td>\n",
       "      <td>6</td>\n",
       "      <td>NaN</td>\n",
       "      <td>5669ef78e4b0c9d3936440e6</td>\n",
       "      <td>1</td>\n",
       "    </tr>\n",
       "    <tr>\n",
       "      <th>1</th>\n",
       "      <td>LL-I-06644937</td>\n",
       "      <td>464f5d9ae4fa09ece4048d949191865c</td>\n",
       "      <td>B</td>\n",
       "      <td>199.0</td>\n",
       "      <td>2016-01-19T22:07:36.778000</td>\n",
       "      <td>True</td>\n",
       "      <td>2016-01-20T15:49:18.846000</td>\n",
       "      <td>0.0</td>\n",
       "      <td>True</td>\n",
       "      <td>1</td>\n",
       "      <td>Paid Off Loan</td>\n",
       "      <td>3000.0</td>\n",
       "      <td>6395.19</td>\n",
       "      <td>CA</td>\n",
       "      <td>prescreen</td>\n",
       "      <td>0</td>\n",
       "      <td>Checked</td>\n",
       "      <td>569eb3a3e4b096699f685d64</td>\n",
       "      <td>1</td>\n",
       "    </tr>\n",
       "    <tr>\n",
       "      <th>2</th>\n",
       "      <td>LL-I-10707532</td>\n",
       "      <td>3c174ae9e2505a5f9ddbff9843281845</td>\n",
       "      <td>B</td>\n",
       "      <td>590.0</td>\n",
       "      <td>2016-08-01T13:51:14.709000</td>\n",
       "      <td>False</td>\n",
       "      <td>NaN</td>\n",
       "      <td>0.0</td>\n",
       "      <td>False</td>\n",
       "      <td>0</td>\n",
       "      <td>Withdrawn Application</td>\n",
       "      <td>400.0</td>\n",
       "      <td>1199.45</td>\n",
       "      <td>MO</td>\n",
       "      <td>bvMandatory</td>\n",
       "      <td>3</td>\n",
       "      <td>NaN</td>\n",
       "      <td>579eab11e4b0d0502870ef2f</td>\n",
       "      <td>1</td>\n",
       "    </tr>\n",
       "    <tr>\n",
       "      <th>3</th>\n",
       "      <td>LL-I-02272596</td>\n",
       "      <td>9be6f443bb97db7e95fa0c281d34da91</td>\n",
       "      <td>B</td>\n",
       "      <td>360.0</td>\n",
       "      <td>2015-08-06T23:58:08.880000</td>\n",
       "      <td>False</td>\n",
       "      <td>NaN</td>\n",
       "      <td>0.0</td>\n",
       "      <td>False</td>\n",
       "      <td>0</td>\n",
       "      <td>Withdrawn Application</td>\n",
       "      <td>500.0</td>\n",
       "      <td>1074.05</td>\n",
       "      <td>IL</td>\n",
       "      <td>bvMandatory</td>\n",
       "      <td>3</td>\n",
       "      <td>NaN</td>\n",
       "      <td>555b1e95e4b0f6f11b267c18</td>\n",
       "      <td>1</td>\n",
       "    </tr>\n",
       "    <tr>\n",
       "      <th>4</th>\n",
       "      <td>LL-I-09542882</td>\n",
       "      <td>63b5494f60b5c19c827c7b068443752c</td>\n",
       "      <td>B</td>\n",
       "      <td>590.0</td>\n",
       "      <td>2016-06-05T22:31:34.304000</td>\n",
       "      <td>False</td>\n",
       "      <td>NaN</td>\n",
       "      <td>0.0</td>\n",
       "      <td>False</td>\n",
       "      <td>0</td>\n",
       "      <td>Rejected</td>\n",
       "      <td>350.0</td>\n",
       "      <td>814.37</td>\n",
       "      <td>NV</td>\n",
       "      <td>bvMandatory</td>\n",
       "      <td>3</td>\n",
       "      <td>NaN</td>\n",
       "      <td>5754a91be4b0c6a2bf424772</td>\n",
       "      <td>1</td>\n",
       "    </tr>\n",
       "  </tbody>\n",
       "</table>\n",
       "</div>"
      ],
      "text/plain": [
       "          loanId                          anon_ssn payFrequency    apr  \\\n",
       "0  LL-I-07399092  beff4989be82aab4a5b47679216942fd            B  360.0   \n",
       "1  LL-I-06644937  464f5d9ae4fa09ece4048d949191865c            B  199.0   \n",
       "2  LL-I-10707532  3c174ae9e2505a5f9ddbff9843281845            B  590.0   \n",
       "3  LL-I-02272596  9be6f443bb97db7e95fa0c281d34da91            B  360.0   \n",
       "4  LL-I-09542882  63b5494f60b5c19c827c7b068443752c            B  590.0   \n",
       "\n",
       "              applicationDate  originated              originatedDate  \\\n",
       "0  2016-02-23T17:29:01.940000       False                         NaN   \n",
       "1  2016-01-19T22:07:36.778000        True  2016-01-20T15:49:18.846000   \n",
       "2  2016-08-01T13:51:14.709000       False                         NaN   \n",
       "3  2015-08-06T23:58:08.880000       False                         NaN   \n",
       "4  2016-06-05T22:31:34.304000       False                         NaN   \n",
       "\n",
       "   nPaidOff  approved  isFunded             loanStatus  loanAmount  \\\n",
       "0       0.0     False         0  Withdrawn Application       500.0   \n",
       "1       0.0      True         1          Paid Off Loan      3000.0   \n",
       "2       0.0     False         0  Withdrawn Application       400.0   \n",
       "3       0.0     False         0  Withdrawn Application       500.0   \n",
       "4       0.0     False         0               Rejected       350.0   \n",
       "\n",
       "   originallyScheduledPaymentAmount state     leadType  leadCost fpStatus  \\\n",
       "0                            978.27    IL  bvMandatory         6      NaN   \n",
       "1                           6395.19    CA    prescreen         0  Checked   \n",
       "2                           1199.45    MO  bvMandatory         3      NaN   \n",
       "3                           1074.05    IL  bvMandatory         3      NaN   \n",
       "4                            814.37    NV  bvMandatory         3      NaN   \n",
       "\n",
       "             clarityFraudId  hasCF  \n",
       "0  5669ef78e4b0c9d3936440e6      1  \n",
       "1  569eb3a3e4b096699f685d64      1  \n",
       "2  579eab11e4b0d0502870ef2f      1  \n",
       "3  555b1e95e4b0f6f11b267c18      1  \n",
       "4  5754a91be4b0c6a2bf424772      1  "
      ]
     },
     "execution_count": 43,
     "metadata": {},
     "output_type": "execute_result"
    }
   ],
   "source": [
    "loan_df.head(5)"
   ]
  },
  {
   "cell_type": "code",
   "execution_count": 44,
   "metadata": {
    "metadata": {}
   },
   "outputs": [
    {
     "data": {
      "text/plain": [
       "loanId                                 256\n",
       "anon_ssn                                 0\n",
       "payFrequency                          1273\n",
       "apr                                   3922\n",
       "applicationDate                          0\n",
       "originated                               0\n",
       "originatedDate                      531638\n",
       "nPaidOff                                24\n",
       "approved                                 0\n",
       "isFunded                                 0\n",
       "loanStatus                             391\n",
       "loanAmount                            2250\n",
       "originallyScheduledPaymentAmount         0\n",
       "state                                  132\n",
       "leadType                                 0\n",
       "leadCost                                 0\n",
       "fpStatus                            525959\n",
       "clarityFraudId                      219989\n",
       "hasCF                                    0\n",
       "dtype: int64"
      ]
     },
     "execution_count": 44,
     "metadata": {},
     "output_type": "execute_result"
    }
   ],
   "source": [
    "loan_df.isnull().sum()"
   ]
  },
  {
   "cell_type": "markdown",
   "metadata": {},
   "source": [
    "### Observations\n",
    "- Delete 'loanId'\n",
    "- See if it is possible to use 'anon_ssn'\n",
    "- Extract year-data from 'applicationDate'\n",
    "- Need to deal with outliers"
   ]
  },
  {
   "cell_type": "markdown",
   "metadata": {},
   "source": [
    "### Null Values\n",
    "- Delete 'originatedDate', 'fpStatus', 'clarityFraudId'"
   ]
  },
  {
   "cell_type": "code",
   "execution_count": 45,
   "metadata": {
    "metadata": {}
   },
   "outputs": [
    {
     "data": {
      "text/plain": [
       "payFrequency\n",
       "B    316654\n",
       "W    137188\n",
       "M     59092\n",
       "I     33787\n",
       "S     29688\n",
       "Name: count, dtype: int64"
      ]
     },
     "execution_count": 45,
     "metadata": {},
     "output_type": "execute_result"
    }
   ],
   "source": [
    "loan_df[\"payFrequency\"].value_counts() # Replace with B"
   ]
  },
  {
   "cell_type": "code",
   "execution_count": 46,
   "metadata": {
    "metadata": {}
   },
   "outputs": [
    {
     "data": {
      "text/plain": [
       "apr\n",
       "590.0    224447\n",
       "360.0     65111\n",
       "645.0     59504\n",
       "601.0     40949\n",
       "680.0     39431\n",
       "Name: count, dtype: int64"
      ]
     },
     "execution_count": 46,
     "metadata": {},
     "output_type": "execute_result"
    }
   ],
   "source": [
    "loan_df[\"apr\"].value_counts().iloc[:5] # Replace with 590.0"
   ]
  },
  {
   "cell_type": "code",
   "execution_count": 47,
   "metadata": {
    "metadata": {}
   },
   "outputs": [
    {
     "data": {
      "text/plain": [
       "nPaidOff\n",
       "0.0    564599\n",
       "1.0      8596\n",
       "2.0      2602\n",
       "3.0       918\n",
       "4.0       427\n",
       "Name: count, dtype: int64"
      ]
     },
     "execution_count": 47,
     "metadata": {},
     "output_type": "execute_result"
    }
   ],
   "source": [
    "loan_df[\"nPaidOff\"].value_counts().iloc[:5] # Replace with 0.0"
   ]
  },
  {
   "cell_type": "code",
   "execution_count": 48,
   "metadata": {
    "metadata": {}
   },
   "outputs": [
    {
     "data": {
      "text/plain": [
       "loanAmount\n",
       "500.0    160547\n",
       "400.0    119254\n",
       "350.0     83247\n",
       "300.0     62860\n",
       "600.0     54640\n",
       "Name: count, dtype: int64"
      ]
     },
     "execution_count": 48,
     "metadata": {},
     "output_type": "execute_result"
    }
   ],
   "source": [
    "loan_df[\"loanAmount\"].value_counts().iloc[:5] # Replace with { (500 + 400 + 350) / 3 }"
   ]
  },
  {
   "cell_type": "code",
   "execution_count": 49,
   "metadata": {
    "metadata": {}
   },
   "outputs": [
    {
     "data": {
      "text/plain": [
       "state\n",
       "OH    90496\n",
       "IL    66710\n",
       "TX    49729\n",
       "MO    49249\n",
       "WI    40349\n",
       "Name: count, dtype: int64"
      ]
     },
     "execution_count": 49,
     "metadata": {},
     "output_type": "execute_result"
    }
   ],
   "source": [
    "loan_df[\"state\"].value_counts().iloc[:5] # Replace with OH"
   ]
  },
  {
   "cell_type": "code",
   "execution_count": 60,
   "metadata": {
    "metadata": {}
   },
   "outputs": [
    {
     "data": {
      "text/plain": [
       "anon_ssn\n",
       "c8bb49de1f8ff99d2ecddfb7037dc66e    35\n",
       "0b87684b60c8b8f5d0bd40eb5811cd50    20\n",
       "f971898a3c70e4c3c316cb4bc48b6e2e    18\n",
       "6f0e71bc16f634fafcf5337cecdfb25e    16\n",
       "64cd38e9cd1e06ed480b5e607494ce57    15\n",
       "161f764c0bff5b9605d9283c21ab6926    15\n",
       "65caf69fa6779296fe50b1433fadd811    14\n",
       "fd0e0e5ca3b308eba0b11a6b06ca658b    14\n",
       "6946e99d05989d677799e8ef321262be    14\n",
       "f76c6bd798b03dbf1c697902c0a6a687    14\n",
       "Name: count, dtype: int64"
      ]
     },
     "execution_count": 60,
     "metadata": {},
     "output_type": "execute_result"
    }
   ],
   "source": [
    "loan_df['anon_ssn'].value_counts()[:10] # Use by encoding because history of the applicant is important"
   ]
  },
  {
   "cell_type": "markdown",
   "metadata": {},
   "source": [
    "### Understanding target variable"
   ]
  },
  {
   "cell_type": "code",
   "execution_count": 50,
   "metadata": {
    "metadata": {}
   },
   "outputs": [
    {
     "data": {
      "text/plain": [
       "loanStatus\n",
       "Withdrawn Application          450984\n",
       "Rejected                        85070\n",
       "Paid Off Loan                   11427\n",
       "External Collection             11334\n",
       "New Loan                         8112\n",
       "Internal Collection              5567\n",
       "Returned Item                    1182\n",
       "CSR Voided New Loan              1026\n",
       "Settlement Paid Off               708\n",
       "Credit Return Void                704\n",
       "Customer Voided New Loan          504\n",
       "Settled Bankruptcy                326\n",
       "Pending Paid Off                  169\n",
       "Charged Off Paid Off              160\n",
       "Pending Application Fee             5\n",
       "Pending Rescind                     4\n",
       "Pending Application                 4\n",
       "Voided New Loan                     2\n",
       "Charged Off                         1\n",
       "Customver Voided New Loan           1\n",
       "Settlement Pending Paid Off         1\n",
       "Name: count, dtype: int64"
      ]
     },
     "execution_count": 50,
     "metadata": {},
     "output_type": "execute_result"
    }
   ],
   "source": [
    "loan_df['loanStatus'].value_counts()"
   ]
  },
  {
   "cell_type": "markdown",
   "metadata": {},
   "source": [
    "Looking at the provided loanStatus values, we can identify certain categories that are indicative of high risk:\n",
    "\n",
    "- Rejected: Loans that were rejected at the application stage might signify that the applicant was deemed to be at risk or not creditworthy.\n",
    "- External Collection: Loans that have entered external collections often indicate a significant risk of default.\n",
    "- Internal Collection: Similarly, loans in internal collections suggest potential payment difficulties.\n",
    "- Charged Off: This typically means the lender has given up on collecting the debt, indicating a high-risk scenario.\n",
    "- Settled Bankruptcy: Loans that have been settled due to bankruptcy also suggest a higher level of risk.\n",
    "\n",
    "The rest of the values are considered to be low-risk."
   ]
  },
  {
   "cell_type": "code",
   "execution_count": 51,
   "metadata": {
    "metadata": {}
   },
   "outputs": [
    {
     "data": {
      "text/plain": [
       "binaryRiskStatus\n",
       "Low     475384\n",
       "High    102298\n",
       "Name: count, dtype: int64"
      ]
     },
     "execution_count": 51,
     "metadata": {},
     "output_type": "execute_result"
    }
   ],
   "source": [
    "high_risk = ['Rejected' , 'External Collection' , 'Internal Collection' , 'Charged Off' , 'Settled Bankruptcy']\n",
    "binaryRiskStatus = ['High' if x in high_risk else 'Low' for x in loan_df['loanStatus']]\n",
    "loan_df['binaryRiskStatus'] = binaryRiskStatus\n",
    "loan_df['binaryRiskStatus'].value_counts()"
   ]
  },
  {
   "cell_type": "markdown",
   "metadata": {},
   "source": [
    "- Class imbalance issue\n",
    "- Need to indicate during LightBGM training for internal handling"
   ]
  },
  {
   "cell_type": "markdown",
   "metadata": {},
   "source": [
    "# Payment Dataset"
   ]
  },
  {
   "cell_type": "code",
   "execution_count": 52,
   "metadata": {
    "metadata": {}
   },
   "outputs": [
    {
     "data": {
      "text/html": [
       "<div>\n",
       "<style scoped>\n",
       "    .dataframe tbody tr th:only-of-type {\n",
       "        vertical-align: middle;\n",
       "    }\n",
       "\n",
       "    .dataframe tbody tr th {\n",
       "        vertical-align: top;\n",
       "    }\n",
       "\n",
       "    .dataframe thead th {\n",
       "        text-align: right;\n",
       "    }\n",
       "</style>\n",
       "<table border=\"1\" class=\"dataframe\">\n",
       "  <thead>\n",
       "    <tr style=\"text-align: right;\">\n",
       "      <th></th>\n",
       "      <th>loanId</th>\n",
       "      <th>installmentIndex</th>\n",
       "      <th>isCollection</th>\n",
       "      <th>paymentDate</th>\n",
       "      <th>principal</th>\n",
       "      <th>fees</th>\n",
       "      <th>paymentAmount</th>\n",
       "      <th>paymentStatus</th>\n",
       "      <th>paymentReturnCode</th>\n",
       "    </tr>\n",
       "  </thead>\n",
       "  <tbody>\n",
       "    <tr>\n",
       "      <th>0</th>\n",
       "      <td>LL-I-00000021</td>\n",
       "      <td>1</td>\n",
       "      <td>False</td>\n",
       "      <td>2014-12-19T05:00:00</td>\n",
       "      <td>22.33</td>\n",
       "      <td>147.28</td>\n",
       "      <td>169.61</td>\n",
       "      <td>Checked</td>\n",
       "      <td>NaN</td>\n",
       "    </tr>\n",
       "    <tr>\n",
       "      <th>1</th>\n",
       "      <td>LL-I-00000021</td>\n",
       "      <td>2</td>\n",
       "      <td>False</td>\n",
       "      <td>2015-01-02T05:00:00</td>\n",
       "      <td>26.44</td>\n",
       "      <td>143.17</td>\n",
       "      <td>169.61</td>\n",
       "      <td>Checked</td>\n",
       "      <td>NaN</td>\n",
       "    </tr>\n",
       "    <tr>\n",
       "      <th>2</th>\n",
       "      <td>LL-I-00000021</td>\n",
       "      <td>3</td>\n",
       "      <td>False</td>\n",
       "      <td>2015-01-16T05:00:00</td>\n",
       "      <td>31.30</td>\n",
       "      <td>138.31</td>\n",
       "      <td>169.61</td>\n",
       "      <td>Checked</td>\n",
       "      <td>NaN</td>\n",
       "    </tr>\n",
       "    <tr>\n",
       "      <th>3</th>\n",
       "      <td>LL-I-00000021</td>\n",
       "      <td>4</td>\n",
       "      <td>False</td>\n",
       "      <td>2015-01-30T05:00:00</td>\n",
       "      <td>37.07</td>\n",
       "      <td>132.54</td>\n",
       "      <td>169.61</td>\n",
       "      <td>Checked</td>\n",
       "      <td>NaN</td>\n",
       "    </tr>\n",
       "    <tr>\n",
       "      <th>4</th>\n",
       "      <td>LL-I-00000021</td>\n",
       "      <td>5</td>\n",
       "      <td>False</td>\n",
       "      <td>2015-02-13T05:00:00</td>\n",
       "      <td>43.89</td>\n",
       "      <td>125.72</td>\n",
       "      <td>169.61</td>\n",
       "      <td>Checked</td>\n",
       "      <td>NaN</td>\n",
       "    </tr>\n",
       "  </tbody>\n",
       "</table>\n",
       "</div>"
      ],
      "text/plain": [
       "          loanId  installmentIndex  isCollection          paymentDate  \\\n",
       "0  LL-I-00000021                 1         False  2014-12-19T05:00:00   \n",
       "1  LL-I-00000021                 2         False  2015-01-02T05:00:00   \n",
       "2  LL-I-00000021                 3         False  2015-01-16T05:00:00   \n",
       "3  LL-I-00000021                 4         False  2015-01-30T05:00:00   \n",
       "4  LL-I-00000021                 5         False  2015-02-13T05:00:00   \n",
       "\n",
       "   principal    fees  paymentAmount paymentStatus paymentReturnCode  \n",
       "0      22.33  147.28         169.61       Checked               NaN  \n",
       "1      26.44  143.17         169.61       Checked               NaN  \n",
       "2      31.30  138.31         169.61       Checked               NaN  \n",
       "3      37.07  132.54         169.61       Checked               NaN  \n",
       "4      43.89  125.72         169.61       Checked               NaN  "
      ]
     },
     "execution_count": 52,
     "metadata": {},
     "output_type": "execute_result"
    }
   ],
   "source": [
    "payment_df.head(5)"
   ]
  },
  {
   "cell_type": "markdown",
   "metadata": {},
   "source": [
    "#### How to use the payment dataset?\n",
    "- Group by loanId and use feature engineering to extract valuable data.\n",
    "- Attach to the loan dataset on loanId."
   ]
  },
  {
   "cell_type": "code",
   "execution_count": 53,
   "metadata": {
    "metadata": {}
   },
   "outputs": [
    {
     "data": {
      "text/plain": [
       "(689364, 9)"
      ]
     },
     "execution_count": 53,
     "metadata": {},
     "output_type": "execute_result"
    }
   ],
   "source": [
    "payment_df.shape"
   ]
  },
  {
   "cell_type": "code",
   "execution_count": 54,
   "metadata": {
    "metadata": {}
   },
   "outputs": [
    {
     "data": {
      "text/plain": [
       "39952"
      ]
     },
     "execution_count": 54,
     "metadata": {},
     "output_type": "execute_result"
    }
   ],
   "source": [
    "len(payment_df['loanId'].unique())"
   ]
  },
  {
   "cell_type": "markdown",
   "metadata": {},
   "source": [
    "- Around 700K rows in payment dataset.\n",
    "- Only 40k unique IDs in payment dataset.\n",
    "- Features engineered using payment dataset will be applied to only 40k data points.\n",
    "- Dataset deemed not useful."
   ]
  },
  {
   "cell_type": "code",
   "execution_count": null,
   "metadata": {},
   "outputs": [],
   "source": []
  }
 ],
 "metadata": {
  "kernelspec": {
   "display_name": "Python 3",
   "language": "python",
   "name": "python3"
  },
  "language_info": {
   "codemirror_mode": {
    "name": "ipython",
    "version": 3
   },
   "file_extension": ".py",
   "mimetype": "text/x-python",
   "name": "python",
   "nbconvert_exporter": "python",
   "pygments_lexer": "ipython3",
   "version": "3.12.2"
  }
 },
 "nbformat": 4,
 "nbformat_minor": 2
}

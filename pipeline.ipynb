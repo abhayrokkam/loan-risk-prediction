{
 "cells": [
  {
   "cell_type": "code",
   "execution_count": 1,
   "metadata": {},
   "outputs": [],
   "source": [
    "import numpy as np \n",
    "import pandas as pd\n",
    "import pickle\n",
    "\n",
    "from sklearn.compose import ColumnTransformer\n",
    "from sklearn.pipeline import Pipeline, make_pipeline\n",
    "from sklearn import set_config\n",
    "\n",
    "from processing.encoders import ordinal_encode_pf, ordinal_encode_tar, onehot_encode, ordinal_encode\n",
    "from processing.imputers import mf_imputer, avg_imputer\n",
    "from processing.scaler import scaler\n",
    "from processing.classes import Debug, UnnecessaryDelete, OutlierRemoval, FeatureEngineering, TargetTransform\n",
    "from training.classes import LGBMTrain"
   ]
  },
  {
   "cell_type": "code",
   "execution_count": 2,
   "metadata": {},
   "outputs": [],
   "source": [
    "# Set config to output pandas dataframe\n",
    "set_config(transform_output=\"pandas\")"
   ]
  },
  {
   "cell_type": "code",
   "execution_count": 3,
   "metadata": {},
   "outputs": [],
   "source": [
    "# Pipeline to transform the target variable and remove outliers (used for the training data with other data pipeline)\n",
    "pipe_data_target_outlier = make_pipeline(\n",
    "    TargetTransform(),\n",
    "    OutlierRemoval(),\n",
    "    ColumnTransformer(\n",
    "        transformers=[\n",
    "            ('ordinal_encode_tar', ordinal_encode_tar, ['binaryRiskStatus']),\n",
    "        ], verbose_feature_names_out=False, remainder = 'passthrough'\n",
    "    )\n",
    ")"
   ]
  },
  {
   "cell_type": "code",
   "execution_count": 4,
   "metadata": {},
   "outputs": [],
   "source": [
    "# Pipeline to transform the features of the dataset (used alone for inference datasets)\n",
    "pipe_data_feature_transform = make_pipeline(\n",
    "    UnnecessaryDelete(),\n",
    "    ColumnTransformer(\n",
    "        transformers=[\n",
    "            ('avg_impute', avg_imputer, ['loanAmount']),\n",
    "            ('mf_impute', mf_imputer, \n",
    "                ['apr', 'originallyScheduledPaymentAmount', 'leadCost', 'applicationDate', 'nPaidOff',\n",
    "                    'state', 'leadType', 'payFrequency', 'originated', 'approved', 'isFunded', 'hasCF']),\n",
    "        ], verbose_feature_names_out=False, remainder = 'passthrough'\n",
    "    ),\n",
    "    FeatureEngineering(),\n",
    "    ColumnTransformer(\n",
    "        transformers=[\n",
    "            ('scaler', scaler, ['apr', 'loanAmount', 'originallyScheduledPaymentAmount', 'lc_la_ratio']),\n",
    "            ('ordinal_encode_pf', ordinal_encode_pf, ['payFrequency']),\n",
    "            ('onehot_encode', onehot_encode, ['originated', 'approved', 'isFunded', 'hasCF']),\n",
    "            ('ordinal_encode', ordinal_encode, ['nPaidOff', 'state', 'leadType', 'season', 'leadCost']),\n",
    "        ], verbose_feature_names_out=False, remainder = 'passthrough'\n",
    "    ),\n",
    ")"
   ]
  },
  {
   "cell_type": "code",
   "execution_count": 5,
   "metadata": {},
   "outputs": [],
   "source": [
    "# Pipeline to transform the training data\n",
    "pipe_training = Pipeline([\n",
    "        ('target_outlier', pipe_data_target_outlier),\n",
    "        ('feature_transform', pipe_data_feature_transform),\n",
    "        ('training', LGBMTrain()),\n",
    "    ]\n",
    ")"
   ]
  },
  {
   "cell_type": "code",
   "execution_count": 6,
   "metadata": {},
   "outputs": [
    {
     "name": "stdout",
     "output_type": "stream",
     "text": [
      "[LightGBM] [Info] Number of positive: 76871, number of negative: 355089\n",
      "[LightGBM] [Info] Auto-choosing row-wise multi-threading, the overhead of testing was 0.009868 seconds.\n",
      "You can set `force_row_wise=true` to remove the overhead.\n",
      "And if memory is not enough, you can set `force_col_wise=true`.\n",
      "[LightGBM] [Info] Total Bins 648\n",
      "[LightGBM] [Info] Number of data points in the train set: 431960, number of used features: 20\n",
      "[LightGBM] [Info] [binary:BoostFromScore]: pavg=0.177959 -> initscore=-1.530240\n",
      "[LightGBM] [Info] Start training from score -1.530240\n"
     ]
    },
    {
     "data": {
      "image/png": "[encoded data removed]",
      "text/plain": [
       "<Figure size 640x480 with 2 Axes>"
      ]
     },
     "metadata": {},
     "output_type": "display_data"
    }
   ],
   "source": [
    "# Read the data and training the model\n",
    "df = pd.read_csv('./data/loan.csv')\n",
    "\n",
    "model = pipe_training.fit_transform(df)\n",
    "\n",
    "# Saving the model in a folder\n",
    "with open('./model/lgbm.pickle', 'wb') as file:\n",
    "    pickle.dump(model, file, protocol=pickle.HIGHEST_PROTOCOL)"
   ]
  },
  {
   "cell_type": "code",
   "execution_count": 7,
   "metadata": {},
   "outputs": [
    {
     "name": "stdout",
     "output_type": "stream",
     "text": [
      "[0. 0. 0. 0. 0. 0. 0. 0. 0. 0. 0. 0. 1. 0. 0.]\n"
     ]
    }
   ],
   "source": [
    "# Inference of 15 values\n",
    "inf_df = pd.read_csv('./data/inference.csv')\n",
    "inf_df = pipe_data_feature_transform.fit_transform(inf_df)\n",
    "\n",
    "pred = model.predict(inf_df)\n",
    "print(pred)"
   ]
  }
 ],
 "metadata": {
  "kernelspec": {
   "display_name": "playground",
   "language": "python",
   "name": "python3"
  },
  "language_info": {
   "codemirror_mode": {
    "name": "ipython",
    "version": 3
   },
   "file_extension": ".py",
   "mimetype": "text/x-python",
   "name": "python",
   "nbconvert_exporter": "python",
   "pygments_lexer": "ipython3",
   "version": "3.12.2"
  }
 },
 "nbformat": 4,
 "nbformat_minor": 2
}
